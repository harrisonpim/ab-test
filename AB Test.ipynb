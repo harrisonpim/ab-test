{
 "cells": [
  {
   "cell_type": "markdown",
   "metadata": {},
   "source": [
    "# AB Test\n",
    "This notebook outlines the most basic version of a multivariate test (or AB test), and the ways that the `ab_test` module can be used to calculate useful descriptive statistics about a test's performance. We'll start by importing the source code from [src](src)."
   ]
  },
  {
   "cell_type": "code",
   "execution_count": 1,
   "metadata": {
    "collapsed": true
   },
   "outputs": [],
   "source": [
    "from src import *"
   ]
  },
  {
   "cell_type": "markdown",
   "metadata": {},
   "source": [
    "Imagine we have a product with a feature whose performance we think we can improve. We have an idea for how the feature be changed to imrpve performance, but no way of knowing whether it would perform better than the original version. This is where AB testing comes in.\n",
    "\n",
    "We take our 4,000 person strong user base and randomly split it into two sections. Each user is either shown the  new (test) version or the original (control) version of the feature, based on the group of users they were grouped with. The test and control versions will be running side-by-side, but each user only sees one version.  \n",
    "We'll show the new test version to just 10% of our audience - this keeps the risk low. If the new version performs badly, only a small proportion of our audience will have had a worse experience. The vast majority of users will just see the same old vanilla feature.\n",
    "\n",
    "We keep track of the number of conversions in each of the groups, ie the number of times that the users in each group enact a certain behaviour which we're trying to drive - that might be open, click through, purchase...\n",
    "\n",
    "The original version sees 480 conversions, while the new test version sees 53. "
   ]
  },
  {
   "cell_type": "code",
   "execution_count": 2,
   "metadata": {
    "collapsed": true
   },
   "outputs": [],
   "source": [
    "control = [3600, 480]\n",
    "test = [400, 55]"
   ]
  },
  {
   "cell_type": "markdown",
   "metadata": {},
   "source": [
    "Using the `ab_test` module in the [src](src) folder, we can calculate the `conversion_rate()` for each version of the product, where conversion rate is the ratio of number of users who had the _opportunity_ to enact our chosen behaviour, divided by the number of users who _did_ enact that behaviour."
   ]
  },
  {
   "cell_type": "code",
   "execution_count": 3,
   "metadata": {},
   "outputs": [
    {
     "data": {
      "text/plain": [
       "(0.13333333333333333, 0.1375)"
      ]
     },
     "execution_count": 3,
     "metadata": {},
     "output_type": "execute_result"
    }
   ],
   "source": [
    "conversion_rate(control), conversion_rate(test)"
   ]
  },
  {
   "cell_type": "markdown",
   "metadata": {},
   "source": [
    "Looks like the test version did very slightly better than our original - lets test that"
   ]
  },
  {
   "cell_type": "code",
   "execution_count": 4,
   "metadata": {},
   "outputs": [
    {
     "data": {
      "text/plain": [
       "True"
      ]
     },
     "execution_count": 4,
     "metadata": {},
     "output_type": "execute_result"
    }
   ],
   "source": [
    "conversion_rate(test) > conversion_rate(control)"
   ]
  },
  {
   "cell_type": "markdown",
   "metadata": {},
   "source": [
    "We can calculate the _uplift_ of the test version compared to the original - the difference between the performance of the two. A positive value for uplift means that our test version is better than the original."
   ]
  },
  {
   "cell_type": "code",
   "execution_count": 5,
   "metadata": {},
   "outputs": [
    {
     "data": {
      "text/plain": [
       "0.0312500000000001"
      ]
     },
     "execution_count": 5,
     "metadata": {},
     "output_type": "execute_result"
    }
   ],
   "source": [
    "conversion_uplift(control, test)"
   ]
  },
  {
   "cell_type": "markdown",
   "metadata": {},
   "source": [
    "However, it's hard to be _sure_ that our test version is actually better than the original. A sample size of 400 isn't that large - can we be sure that the feature's performance will be universally better when we open it up to our whole user base?\n",
    "\n",
    "We need to calculate the _standard error_, or _uncertainty_ of each measurement:"
   ]
  },
  {
   "cell_type": "code",
   "execution_count": 6,
   "metadata": {},
   "outputs": [
    {
     "data": {
      "text/plain": [
       "(0.005665577237325317, 0.01721872164244489)"
      ]
     },
     "execution_count": 6,
     "metadata": {},
     "output_type": "execute_result"
    }
   ],
   "source": [
    "conversion_rate_uncertainty(control), conversion_rate_uncertainty(test)"
   ]
  },
  {
   "cell_type": "markdown",
   "metadata": {},
   "source": [
    "Lets set these rates and uncertaities as variables which we can use as we move on "
   ]
  },
  {
   "cell_type": "code",
   "execution_count": 7,
   "metadata": {
    "collapsed": true
   },
   "outputs": [],
   "source": [
    "conversion_rate_control = conversion_rate(control)\n",
    "conversion_rate_uncertainty_control = conversion_rate_uncertainty(control)\n",
    "\n",
    "conversion_rate_test = conversion_rate(test)\n",
    "conversion_rate_uncertainty_test = conversion_rate_uncertainty(test)"
   ]
  },
  {
   "cell_type": "markdown",
   "metadata": {},
   "source": [
    "Next we need to calculate a z-score. This tells us the number of standard deviations away from the mean our value is"
   ]
  },
  {
   "cell_type": "code",
   "execution_count": 8,
   "metadata": {},
   "outputs": [
    {
     "data": {
      "text/plain": [
       "0.22986143850784072"
      ]
     },
     "execution_count": 8,
     "metadata": {},
     "output_type": "execute_result"
    }
   ],
   "source": [
    "z = z_score(conversion_rate_test, conversion_rate_uncertainty_test, \n",
    "            conversion_rate_control, conversion_rate_uncertainty_control)\n",
    "z"
   ]
  },
  {
   "cell_type": "markdown",
   "metadata": {},
   "source": [
    "The p-value is what really counts in a hypothesis test, and is defined as follows:\n",
    "\n",
    ">\"The P value is defined as the probability, under the assumption of no effect or no difference (the null hypothesis), of obtaining a result equal to or more extreme than what was actually observed.\"\n",
    "\n",
    "In other words, it's an indicator of how confident we can be about rejecting the null hypothesis, or the assumption that our test version has no effect. A smaller p-value indicates that the tester can have greater confidence in that rejection.  \n",
    "\n",
    "**Note:** It's easy to misinterpret p-values as being more powerful than they really are. [Statistics Done Wrong](https://www.statisticsdonewrong.com/) is an excellent free resource on this topic\n",
    "\n",
    "Testers usually set a threshold p-value of 0.05 or 0.01. Lets see how our test has done:"
   ]
  },
  {
   "cell_type": "code",
   "execution_count": 9,
   "metadata": {},
   "outputs": [
    {
     "data": {
      "text/plain": [
       "0.40909972081619816"
      ]
     },
     "execution_count": 9,
     "metadata": {},
     "output_type": "execute_result"
    }
   ],
   "source": [
    "p_value = p_value(z)\n",
    "p_value"
   ]
  },
  {
   "cell_type": "markdown",
   "metadata": {},
   "source": [
    "Ouch. Not very significant at all. For us to declare that our test version is worth pursuing, we would want to see a positive uplift (indicating that the test performed better than the control) and a p-value _lower_ than our set threshold (indicating that our assertion of betterness is statistically significant).\n",
    "\n",
    "# Wrapping up\n",
    "We can bundle all of the above into a nice clean function called `ab_test()` which takes as arguments the performance of the control and the test version(s) of the product. It then prints out a nicely formatted version of the statistical values above and a statement about how the test should be interpreted."
   ]
  },
  {
   "cell_type": "code",
   "execution_count": 10,
   "metadata": {},
   "outputs": [
    {
     "name": "stdout",
     "output_type": "stream",
     "text": [
      "CONTROL:\n",
      "conversion rate:\t0.1333 ± 0.0057\n",
      "threshhold p-value:\t0.05\n",
      "\n",
      "--------------------------------------------------------------------------------\n",
      "TEST 1\n",
      "--------------------------------------------------------------------------------\n",
      "We can't say anything significant about how well the test performed\n",
      "conversion rate:\t0.1375 ± 0.0172\n",
      "uplift:\t\t\t0.0313\n",
      "Z-score:\t\t0.2299\n",
      "p-value:\t\t0.4091\n",
      "\n"
     ]
    }
   ],
   "source": [
    "ab_test([3600, 480], [400, 55])"
   ]
  },
  {
   "cell_type": "markdown",
   "metadata": {},
   "source": [
    "We can expand our test to be _multivariate_ - if the above example with two versions is an AB test, a multivariate test includes C, D, E etc. We bring in more than one test variation at a time and compare their performance all at once. The same code applies here. We just tack on our extra versions at the end"
   ]
  },
  {
   "cell_type": "code",
   "execution_count": 11,
   "metadata": {},
   "outputs": [
    {
     "name": "stdout",
     "output_type": "stream",
     "text": [
      "CONTROL:\n",
      "conversion rate:\t0.025 ± 0.0035\n",
      "threshhold p-value:\t0.05\n",
      "\n",
      "--------------------------------------------------------------------------------\n",
      "TEST 1\n",
      "--------------------------------------------------------------------------------\n",
      "We can't say anything significant about how well the test performed\n",
      "conversion rate:\t0.0255 ± 0.0035\n",
      "uplift:\t\t\t0.02\n",
      "Z-score:\t\t0.1008\n",
      "p-value:\t\t0.4599\n",
      "\n",
      "--------------------------------------------------------------------------------\n",
      "TEST 2\n",
      "--------------------------------------------------------------------------------\n",
      "The test performed worse than the control by a significant margin.\n",
      "conversion rate:\t0.01 ± 0.0022\n",
      "uplift:\t\t\t-0.6\n",
      "Z-score:\t\t-3.6234\n",
      "p-value:\t\t0.0001\n",
      "\n",
      "--------------------------------------------------------------------------------\n",
      "TEST 3\n",
      "--------------------------------------------------------------------------------\n",
      "The test performed better than the control by a significant margin!\n",
      "conversion rate:\t0.04 ± 0.0044\n",
      "uplift:\t\t\t0.6\n",
      "Z-score:\t\t2.6774\n",
      "p-value:\t\t0.0037\n",
      "\n"
     ]
    }
   ],
   "source": [
    "ab_test([2000, 50], [2000, 51], [2000, 20], [2000, 80])"
   ]
  },
  {
   "cell_type": "markdown",
   "metadata": {},
   "source": [
    "We can also adjust the p-value of a test to assess its significance to a greater or lesser degree."
   ]
  },
  {
   "cell_type": "code",
   "execution_count": 12,
   "metadata": {},
   "outputs": [
    {
     "name": "stdout",
     "output_type": "stream",
     "text": [
      "CONTROL:\n",
      "conversion rate:\t0.025 ± 0.0035\n",
      "threshhold p-value:\t0.01\n",
      "\n",
      "--------------------------------------------------------------------------------\n",
      "TEST 1\n",
      "--------------------------------------------------------------------------------\n",
      "We can't say anything significant about how well the test performed\n",
      "conversion rate:\t0.0255 ± 0.0035\n",
      "uplift:\t\t\t0.02\n",
      "Z-score:\t\t0.1008\n",
      "p-value:\t\t0.4599\n",
      "\n",
      "--------------------------------------------------------------------------------\n",
      "TEST 2\n",
      "--------------------------------------------------------------------------------\n",
      "The test performed worse than the control by a significant margin.\n",
      "conversion rate:\t0.01 ± 0.0022\n",
      "uplift:\t\t\t-0.6\n",
      "Z-score:\t\t-3.6234\n",
      "p-value:\t\t0.0001\n",
      "\n",
      "--------------------------------------------------------------------------------\n",
      "TEST 3\n",
      "--------------------------------------------------------------------------------\n",
      "The test performed better than the control by a significant margin!\n",
      "conversion rate:\t0.04 ± 0.0044\n",
      "uplift:\t\t\t0.6\n",
      "Z-score:\t\t2.6774\n",
      "p-value:\t\t0.0037\n",
      "\n"
     ]
    }
   ],
   "source": [
    "ab_test([2000, 50], [2000, 51], [2000, 20], [2000, 80], p=0.01)"
   ]
  }
 ],
 "metadata": {
  "kernelspec": {
   "display_name": "Python [conda root]",
   "language": "python",
   "name": "conda-root-py"
  },
  "language_info": {
   "codemirror_mode": {
    "name": "ipython",
    "version": 3
   },
   "file_extension": ".py",
   "mimetype": "text/x-python",
   "name": "python",
   "nbconvert_exporter": "python",
   "pygments_lexer": "ipython3",
   "version": "3.5.3"
  }
 },
 "nbformat": 4,
 "nbformat_minor": 2
}
